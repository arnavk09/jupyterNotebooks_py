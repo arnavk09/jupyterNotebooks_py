{
 "cells": [
  {
   "cell_type": "code",
   "execution_count": 1,
   "id": "045ce48d",
   "metadata": {},
   "outputs": [
    {
     "name": "stdout",
     "output_type": "stream",
     "text": [
      "Hello World\n"
     ]
    }
   ],
   "source": [
    "print('Hello World')\n"
   ]
  },
  {
   "cell_type": "code",
   "execution_count": 2,
   "id": "d002a0e2",
   "metadata": {},
   "outputs": [
    {
     "data": {
      "text/plain": [
       "5"
      ]
     },
     "execution_count": 2,
     "metadata": {},
     "output_type": "execute_result"
    }
   ],
   "source": [
    "3+2"
   ]
  },
  {
   "cell_type": "code",
   "execution_count": 3,
   "id": "310b532e",
   "metadata": {},
   "outputs": [
    {
     "data": {
      "text/plain": [
       "18"
      ]
     },
     "execution_count": 3,
     "metadata": {},
     "output_type": "execute_result"
    }
   ],
   "source": [
    "3+3+3+3+3+3"
   ]
  },
  {
   "cell_type": "code",
   "execution_count": 8,
   "id": "5dd68507",
   "metadata": {},
   "outputs": [
    {
     "name": "stdout",
     "output_type": "stream",
     "text": [
      "('a', 'b')\n"
     ]
    }
   ],
   "source": [
    "a = (\"a\", \"b\", \"c\", \"d\", \"e\", \"f\", \"g\", \"h\")\n",
    "x = slice(2)\n",
    "print(a[x])"
   ]
  },
  {
   "cell_type": "code",
   "execution_count": 2,
   "id": "0bf288c8",
   "metadata": {},
   "outputs": [
    {
     "name": "stdout",
     "output_type": "stream",
     "text": [
      "('A', 'B', 'C', 'D')\n",
      "('B', 'C', 'D')\n",
      "<class 'tuple'>\n"
     ]
    }
   ],
   "source": [
    "fam=(\"A\",\"B\",\"C\",\"D\")\n",
    "print(fam)\n",
    "print(fam[1:])\n",
    "print(type(fam))"
   ]
  },
  {
   "cell_type": "code",
   "execution_count": 3,
   "id": "5f747500",
   "metadata": {},
   "outputs": [
    {
     "name": "stdout",
     "output_type": "stream",
     "text": [
      "New Day\n"
     ]
    }
   ],
   "source": [
    "print(\"New Day\")"
   ]
  },
  {
   "cell_type": "code",
   "execution_count": 1,
   "id": "7bdeb7c8",
   "metadata": {},
   "outputs": [
    {
     "name": "stdout",
     "output_type": "stream",
     "text": [
      "Interactive namespace is empty.\n"
     ]
    }
   ],
   "source": [
    "%whos\n"
   ]
  },
  {
   "cell_type": "code",
   "execution_count": 4,
   "id": "c5b1ae19",
   "metadata": {},
   "outputs": [
    {
     "name": "stdout",
     "output_type": "stream",
     "text": [
      "Variable   Type    Data/Info\n",
      "----------------------------\n",
      "x          int     3\n",
      "y          int     2\n",
      "z          int     1\n"
     ]
    }
   ],
   "source": [
    "x=3\n",
    "y=2\n",
    "z=x-y\n",
    "%whos\n",
    "# print(z)"
   ]
  },
  {
   "cell_type": "markdown",
   "id": "665af9f6",
   "metadata": {},
   "source": [
    "<b>BOOLEAN</b>"
   ]
  },
  {
   "cell_type": "code",
   "execution_count": 3,
   "id": "06cfcb9f",
   "metadata": {},
   "outputs": [
    {
     "name": "stdout",
     "output_type": "stream",
     "text": [
      "Variable   Type    Data/Info\n",
      "----------------------------\n",
      "a          bool    True\n",
      "b          bool    True\n",
      "c          bool    False\n"
     ]
    }
   ],
   "source": [
    "a=True\n",
    "b=True\n",
    "c=False\n",
    "%whos"
   ]
  },
  {
   "cell_type": "code",
   "execution_count": 5,
   "id": "61132377",
   "metadata": {},
   "outputs": [
    {
     "name": "stdout",
     "output_type": "stream",
     "text": [
      "-----and ops-----\n",
      "True\n",
      "True\n",
      "False\n",
      "False\n"
     ]
    }
   ],
   "source": [
    "print (\"-----and ops-----\")\n",
    "print (a and a)\n",
    "print (a and b)\n",
    "print (a and c)\n",
    "print (c and a)"
   ]
  },
  {
   "cell_type": "code",
   "execution_count": 10,
   "id": "f85dae19",
   "metadata": {},
   "outputs": [
    {
     "name": "stdout",
     "output_type": "stream",
     "text": [
      "3.14\n"
     ]
    }
   ],
   "source": [
    "print(round(3.136,2))"
   ]
  },
  {
   "cell_type": "code",
   "execution_count": 1,
   "id": "ad324e60",
   "metadata": {},
   "outputs": [
    {
     "name": "stdout",
     "output_type": "stream",
     "text": [
      "(5, 2)\n"
     ]
    }
   ],
   "source": [
    "print(divmod(27,5))"
   ]
  },
  {
   "cell_type": "code",
   "execution_count": 2,
   "id": "f5cbf3ce",
   "metadata": {},
   "outputs": [
    {
     "name": "stdout",
     "output_type": "stream",
     "text": [
      "Help on built-in function divmod in module builtins:\n",
      "\n",
      "divmod(x, y, /)\n",
      "    Return the tuple (x//y, x%y).  Invariant: div*y + mod == x.\n",
      "\n"
     ]
    }
   ],
   "source": [
    "help(divmod)"
   ]
  },
  {
   "cell_type": "code",
   "execution_count": 3,
   "id": "acbb5349",
   "metadata": {},
   "outputs": [
    {
     "name": "stdout",
     "output_type": "stream",
     "text": [
      "(3, 7)\n"
     ]
    }
   ],
   "source": [
    "print(divmod(34,9))"
   ]
  },
  {
   "cell_type": "code",
   "execution_count": 4,
   "id": "0d362a2c",
   "metadata": {},
   "outputs": [
    {
     "name": "stdout",
     "output_type": "stream",
     "text": [
      "(3, 7)\n",
      "<class 'tuple'>\n"
     ]
    }
   ],
   "source": [
    "g=divmod(34,9)\n",
    "print(g)\n",
    "print(type(g))"
   ]
  },
  {
   "cell_type": "code",
   "execution_count": 2,
   "id": "e978b832",
   "metadata": {},
   "outputs": [
    {
     "name": "stdout",
     "output_type": "stream",
     "text": [
      "Enter a Number : 256.43\n",
      "256.43\n"
     ]
    }
   ],
   "source": [
    "x=input(\"Enter a Number : \")\n",
    "print(x)"
   ]
  },
  {
   "cell_type": "code",
   "execution_count": 10,
   "id": "58f58252",
   "metadata": {},
   "outputs": [
    {
     "name": "stdout",
     "output_type": "stream",
     "text": [
      "Enter your height in cm: 164\n",
      "Enter your weight in kg: 50\n",
      "Your BMI is 18.590124925639504\n"
     ]
    }
   ],
   "source": [
    "h = float(input(\"Enter your height in cm: \")) \n",
    "w = float(input(\"Enter your weight in kg: \"))\n",
    "bmi = w / (h/100)**2.\n",
    "print(\"Your BMI is\",bmi)"
   ]
  },
  {
   "cell_type": "markdown",
   "id": "05b75d12",
   "metadata": {},
   "source": [
    "<b>FLOW OF CONTROL</b>"
   ]
  },
  {
   "cell_type": "code",
   "execution_count": 11,
   "id": "fc862748",
   "metadata": {},
   "outputs": [
    {
     "name": "stdout",
     "output_type": "stream",
     "text": [
      "Testing shortcut\n"
     ]
    }
   ],
   "source": [
    "print(\"Testing shortcut\")"
   ]
  },
  {
   "cell_type": "code",
   "execution_count": 13,
   "id": "8e20b01c",
   "metadata": {},
   "outputs": [
    {
     "name": "stdout",
     "output_type": "stream",
     "text": [
      "shift+enter is the way to go\n"
     ]
    }
   ],
   "source": [
    "print(\"shift+enter is the way to go\")"
   ]
  },
  {
   "cell_type": "markdown",
   "id": "74655f60",
   "metadata": {},
   "source": [
    "<b><i>a task was given to check if/else</i></b>"
   ]
  },
  {
   "cell_type": "code",
   "execution_count": 20,
   "id": "50832678",
   "metadata": {},
   "outputs": [
    {
     "name": "stdout",
     "output_type": "stream",
     "text": [
      "Enter a Number : 3\n",
      "Enter another Number3\n",
      "EQUAL NUMBERS\n"
     ]
    }
   ],
   "source": [
    "a=int(input(\"Enter a Number : \"))\n",
    "b=int(input(\"Enter another Number\"))\n",
    "if (a>b):\n",
    " print (a)\n",
    "elif(a==b):\n",
    "    print(\"EQUAL NUMBERS\")\n",
    "else:\n",
    " print(b)"
   ]
  },
  {
   "cell_type": "markdown",
   "id": "636b8954",
   "metadata": {},
   "source": [
    "<b><i>Marks Card Status Check</i></b>"
   ]
  },
  {
   "cell_type": "code",
   "execution_count": 28,
   "id": "13aa712f",
   "metadata": {},
   "outputs": [
    {
     "name": "stdout",
     "output_type": "stream",
     "text": [
      "enter marks : 45\n",
      "You have FAILED this course. Kindly contact course coordinator.\n"
     ]
    }
   ],
   "source": [
    "marks=float(input(\"enter marks : \"))\n",
    "if(marks>=90):\n",
    "    print(f\"You got A grade\")\n",
    "elif((marks>=80)and(marks<=89)):\n",
    "    print(f\"You got B1 grade\")\n",
    "elif((marks>=70)and(marks<=79)):\n",
    "    print(f\"You got B2 grade\")\n",
    "else:\n",
    "    print(\"You have FAILED this course. Kindly contact course coordinator.\")"
   ]
  },
  {
   "cell_type": "markdown",
   "id": "8ced3db9",
   "metadata": {},
   "source": [
    "<b><i>Nested IF</i><b>"
   ]
  },
  {
   "cell_type": "code",
   "execution_count": 37,
   "id": "8a58f84f",
   "metadata": {},
   "outputs": [
    {
     "name": "stdout",
     "output_type": "stream",
     "text": [
      "Enter a number :4\n",
      "tiny\n"
     ]
    }
   ],
   "source": [
    "x=int(input(\"Enter a number :\"))\n",
    "if(x>10):\n",
    "    if(x>20):\n",
    "        print(\"X is greater than 20\")\n",
    "    elif(x==20):\n",
    "        print(\"X is equal to 20\")\n",
    "elif(x<10):\n",
    "    print(\"tiny\")"
   ]
  },
  {
   "cell_type": "code",
   "execution_count": 42,
   "id": "f4832b61",
   "metadata": {},
   "outputs": [
    {
     "name": "stdout",
     "output_type": "stream",
     "text": [
      "enter number : 238.915\n",
      "You entered  238.915\n",
      "Rounded Number is  239\n",
      "Odd Number\n"
     ]
    }
   ],
   "source": [
    "x=float(input(\"enter number : \"))\n",
    "print(\"You entered \", x)\n",
    "y=int(round(x))\n",
    "print(\"Rounded Number is \",y)\n",
    "if(y%2==0):\n",
    "    print(\"Even Number\")\n",
    "else:\n",
    "    print(\"Odd Number\")"
   ]
  },
  {
   "cell_type": "markdown",
   "id": "6f93d680",
   "metadata": {},
   "source": [
    "<b>THE while LOOP</b>"
   ]
  },
  {
   "cell_type": "code",
   "execution_count": 46,
   "id": "f8621108",
   "metadata": {},
   "outputs": [
    {
     "name": "stdout",
     "output_type": "stream",
     "text": [
      "Max Iterations : 5\n",
      "  1\n",
      "  2\n",
      "  3\n",
      "  4\n",
      "  5\n",
      "Done, out of loop !\n"
     ]
    }
   ],
   "source": [
    "n=int(input(\"Max Iterations : \"))\n",
    "i=1\n",
    "while i<=n:\n",
    "    print(i)\n",
    "    i+=1\n",
    "print(\"Done, out of loop !\")"
   ]
  },
  {
   "cell_type": "code",
   "execution_count": 47,
   "id": "cc9de2bc",
   "metadata": {},
   "outputs": [
    {
     "name": "stdout",
     "output_type": "stream",
     "text": [
      "Sum of n numbers\n",
      "Enter limit : 10\n",
      "55\n"
     ]
    }
   ],
   "source": [
    "print(\"Sum of n numbers\")\n",
    "n=int(input(\"Enter limit : \"))\n",
    "sum=0\n",
    "i=1\n",
    "while(i<=n):\n",
    "    sum+=i\n",
    "    i+=1\n",
    "print(sum)"
   ]
  },
  {
   "cell_type": "code",
   "execution_count": 1,
   "id": "3a99a7bb",
   "metadata": {},
   "outputs": [
    {
     "name": "stdout",
     "output_type": "stream",
     "text": [
      "New One\n"
     ]
    }
   ],
   "source": [
    "print(\"New One\")"
   ]
  },
  {
   "cell_type": "code",
   "execution_count": 6,
   "id": "e6df3210",
   "metadata": {},
   "outputs": [
    {
     "name": "stdout",
     "output_type": "stream",
     "text": [
      "Value of Multiple : 7\n",
      "Find till the value : 100\n",
      "7\n",
      "14\n",
      "21\n",
      "28\n",
      "35\n",
      "42\n",
      "49\n",
      "56\n",
      "63\n",
      "70\n",
      "77\n",
      "84\n",
      "91\n",
      "98\n"
     ]
    }
   ],
   "source": [
    "i=1\n",
    "j=int(input(\"Value of Multiple : \"))\n",
    "n=int(input(\"Find till the value : \"))\n",
    "while(i<=n):\n",
    "    if(i%j==0):\n",
    "        print(i)\n",
    "    else:\n",
    "        pass\n",
    "    i+=1"
   ]
  },
  {
   "cell_type": "code",
   "execution_count": 1,
   "id": "afbd5a3e",
   "metadata": {},
   "outputs": [
    {
     "name": "stdout",
     "output_type": "stream",
     "text": [
      "Test\n"
     ]
    }
   ],
   "source": [
    "print(\"Test\")"
   ]
  },
  {
   "cell_type": "code",
   "execution_count": 6,
   "id": "a5e59cf4",
   "metadata": {},
   "outputs": [
    {
     "name": "stdout",
     "output_type": "stream",
     "text": [
      "[0, 1, 2, 3, 4, 5]\n"
     ]
    }
   ],
   "source": [
    "l = []\n",
    "for i in range(0, 6):\n",
    "    l.append(i)\n",
    "print(l)"
   ]
  },
  {
   "cell_type": "code",
   "execution_count": 8,
   "id": "dba77bed",
   "metadata": {},
   "outputs": [
    {
     "name": "stdout",
     "output_type": "stream",
     "text": [
      "5\n"
     ]
    }
   ],
   "source": [
    "i=int(input(\"Enter Number : \"))\n",
    "print(i)"
   ]
  },
  {
   "cell_type": "code",
   "execution_count": 14,
   "id": "d86c7282",
   "metadata": {},
   "outputs": [
    {
     "name": "stdout",
     "output_type": "stream",
     "text": [
      "1\n",
      "2\n",
      "3\n",
      "4\n",
      "5\n",
      "Sum of first  5  natural numbers is  15\n"
     ]
    }
   ],
   "source": [
    "i = 1\n",
    "n = int(input(\"Enter Limit : \"))\n",
    "sum = 0\n",
    "for i in range(1, (n+1), 1):\n",
    "    # print(i)\n",
    "    sum += i\n",
    "    print(i)\n",
    "print(\"Sum of first \", n, \" natural numbers is \", sum)\n"
   ]
  },
  {
   "cell_type": "code",
   "execution_count": 22,
   "id": "4205a798",
   "metadata": {},
   "outputs": [
    {
     "name": "stdout",
     "output_type": "stream",
     "text": [
      "5\n",
      "10\n",
      "15\n",
      "20\n",
      "25\n",
      "30\n",
      "35\n",
      "40\n",
      "45\n",
      "50\n",
      "Variable   Type      Data/Info\n",
      "------------------------------\n",
      "i          int       54\n",
      "j          int       50\n",
      "l          list      n=6\n",
      "n          int       5\n",
      "os         module    <module 'os' from 'C:\\\\Us<...>\\\\Python310\\\\lib\\\\os.py'>\n",
      "site       module    <module 'site' from 'C:\\\\<...>Python310\\\\lib\\\\site.py'>\n",
      "sum        int       15\n",
      "sys        module    <module 'sys' (built-in)>\n"
     ]
    }
   ],
   "source": [
    "i = 1\n",
    "n = int(input(\"Enter a Number of which multiples are needed :\"))\n",
    "j = int(input(\"Up to where do you need multiples? :\"))\n",
    "\n",
    "for i in range(1, (j+n), 1):\n",
    "    if i % n == 0:\n",
    "        print(i)\n",
    "%whos"
   ]
  }
 ],
 "metadata": {
  "kernelspec": {
   "display_name": "Python 3 (ipykernel)",
   "language": "python",
   "name": "python3"
  },
  "language_info": {
   "codemirror_mode": {
    "name": "ipython",
    "version": 3
   },
   "file_extension": ".py",
   "mimetype": "text/x-python",
   "name": "python",
   "nbconvert_exporter": "python",
   "pygments_lexer": "ipython3",
   "version": "3.10.2"
  }
 },
 "nbformat": 4,
 "nbformat_minor": 5
}
